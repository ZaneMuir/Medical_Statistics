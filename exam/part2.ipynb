{
 "cells": [
  {
   "cell_type": "markdown",
   "metadata": {},
   "source": [
    "# 卫生统计学 2 历年题"
   ]
  },
  {
   "cell_type": "markdown",
   "metadata": {},
   "source": [
    "## 统计\n",
    "\n",
    "---"
   ]
  },
  {
   "cell_type": "markdown",
   "metadata": {},
   "source": [
    "<details>\n",
    "    <summary></summary>\n",
    "    <p></p>\n",
    "</details>\n"
   ]
  },
  {
   "cell_type": "markdown",
   "metadata": {},
   "source": [
    "## 目录\n",
    "\n",
    "---"
   ]
  },
  {
   "cell_type": "markdown",
   "metadata": {},
   "source": [
    "## 07级基础\n",
    "\n",
    "### 简答题\n",
    "\n",
    "<details>\n",
    "    <summary>卡方四格表公式的使用条件</summary>\n",
    "    <p></p>\n",
    "</details>\n",
    "\n",
    "<details>\n",
    "    <summary>当参数检验和非参检验结果不一致时怎么处理</summary>\n",
    "    <p></p>\n",
    "</details>\n",
    "\n",
    "<details>\n",
    "    <summary>删失产生的原因</summary>\n",
    "    <p></p>\n",
    "</details>\n",
    "\n",
    "<details>\n",
    "    <summary>线性回归的使用条件和生存分析的一些概念</summary>\n",
    "    <p></p>\n",
    "</details>\n",
    "\n",
    "### 计算题\n",
    "<details>\n",
    "    <summary>life table的计算</summary>\n",
    "    <p></p>\n",
    "</details>\n",
    "\n",
    "<details>\n",
    "    <summary>线性回归模型的计算和假设检验</summary>\n",
    "    <p></p>\n",
    "</details>\n",
    "\n",
    "<details>\n",
    "    <summary>卡方四格表的计算</summary>\n",
    "    <p></p>\n",
    "</details>\n",
    "\n",
    "<hr />"
   ]
  },
  {
   "cell_type": "markdown",
   "metadata": {},
   "source": [
    "## 06级基础\n",
    "### 简答题\n",
    "<details>\n",
    "    <summary>使用四格表卡方公式的注意事项</summary>\n",
    "    <p></p>\n",
    "</details>\n",
    "\n",
    "<details>\n",
    "    <summary>非参检验和参数检验结果不同，以哪个为准</summary>\n",
    "    <p></p>\n",
    "</details>\n",
    "\n",
    "<details>\n",
    "    <summary>病例对照研究的优缺点</summary>\n",
    "    <p></p>\n",
    "</details>\n",
    "\n",
    "<details>\n",
    "    <summary>直线相关分析时要注意的问题</summary>\n",
    "    <p></p>\n",
    "</details>\n",
    "\n",
    "<details>\n",
    "    <summary>生存概率，生存率，生存曲线，截尾的概念</summary>\n",
    "    <p></p>\n",
    "</details>\n",
    "\n",
    "### 计算题\n",
    "<details>\n",
    "    <summary>给了一个线性回归的例子以及两个stata的结果图，一个是方差分析，另一个是回归系数值。\n",
    "        <br />问(1)线性回归分析时要求资料满足的条件，以及如何验证\n",
    "        <br />(2)stata分析结果的作用，结论如何</summary>\n",
    "    <p></p>\n",
    "</details>\n",
    "\n",
    "<details>\n",
    "    <summary>KM法计算生存率</summary>\n",
    "    <p></p>\n",
    "</details>\n",
    "\n",
    "<details>\n",
    "    <summary>四格表卡方检验的步骤，不用计算</summary>\n",
    "    <p></p>\n",
    "</details>\n",
    "\n",
    "<hr />"
   ]
  },
  {
   "cell_type": "markdown",
   "metadata": {},
   "source": [
    "## 11级临八\n",
    "### 简答题\n",
    "<details>\n",
    "    <summary>成组设计多样本定量资料的秩和检验时，编秩是分组进行的。对吗？理由？</summary>\n",
    "    <p></p>\n",
    "</details>\n",
    "\n",
    "<details>\n",
    "    <summary>生存分析出现删失的原因。</summary>\n",
    "    <p></p>\n",
    "</details>\n",
    "\n",
    "<details>\n",
    "    <summary>比较参数检验和非参数检验。</summary>\n",
    "    <p></p>\n",
    "</details>\n",
    "\n",
    "<details>\n",
    "    <summary>进行直线线性相关时需要注意的问题。</summary>\n",
    "    <p></p>\n",
    "</details>\n",
    "\n",
    "<details>\n",
    "    <summary>回归分析的前提。</summary>\n",
    "    <p></p>\n",
    "</details>\n",
    "\n",
    "### 计算题\n",
    "<details>\n",
    "    <summary>给了一张表（一行体温、一样脉搏），还有一份stata结果（部分结果被挖掉，用字母表示）。问：\n",
    "        <br />a) 原假设和备择假设分别是什么？\n",
    "        <br />b) Stata结果里的字母各自具体数值的计算。\n",
    "        <br />c) 写出回归方程。根据题目解释b的含义。\n",
    "        <br />d) P值如何？方程和参数各自有无统计学意义？</summary>\n",
    "    <p></p>\n",
    "</details>\n",
    "\n",
    "<details>\n",
    "    <summary>给了一份资料，吸毒者结核治疗的效果和对照组（应该是有序分类）。\n",
    "        <br />a) 资料是什么类型的？\n",
    "        <br />b) 用什么检验方法？为什么？\n",
    "        <br />c) 写出具体步骤、讨论可能结果（不用计算）。</summary>\n",
    "    <p></p>\n",
    "</details>\n",
    "\n",
    "<details>\n",
    "    <summary>关于某种药物疗效的资料（四格表），问实验组疗效是否好于对照组。</summary>\n",
    "    <p>眼尖的小伙伴一眼看出样本量n$<$40，必须采用Fisher检验；看不出来没关系，听到后面一声声“卧槽”之后，你也知道不是用简单的x2检验；老师为了迷惑我们，没有给Fisher检验公式……最后是此起彼伏的计算器的声音……</p>\n",
    "</details>\n",
    "\n",
    "<hr />"
   ]
  },
  {
   "cell_type": "markdown",
   "metadata": {},
   "source": [
    "## 05级基础\n",
    "<br />\n",
    "<details>\n",
    "    <summary>poisson分布改变单位还是否符合，残差概念及意义，非参数检验的优缺点</summary>\n",
    "    <p></p>\n",
    "</details>\n",
    "\n",
    "<details>\n",
    "    <summary>一个四个表，一个配对四个表，一个相关回归的上机结论分析</summary>\n",
    "    <p></p>\n",
    "</details>\n",
    "\n",
    "<hr />"
   ]
  },
  {
   "cell_type": "markdown",
   "metadata": {},
   "source": [
    "[yzmiao14@fudan.edu.cn](mailto:yzmiao14@fudan.edu.cn)"
   ]
  }
 ],
 "metadata": {
  "kernelspec": {
   "display_name": "Julia 0.6.0",
   "language": "julia",
   "name": "julia-0.6"
  },
  "language_info": {
   "file_extension": ".jl",
   "mimetype": "application/julia",
   "name": "julia",
   "version": "0.6.0"
  }
 },
 "nbformat": 4,
 "nbformat_minor": 2
}
