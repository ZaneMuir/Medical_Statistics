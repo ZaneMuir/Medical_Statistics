{
 "cells": [
  {
   "cell_type": "code",
   "execution_count": 1,
   "metadata": {},
   "outputs": [],
   "source": [
    "using Plots\n",
    "using Distributions"
   ]
  },
  {
   "cell_type": "markdown",
   "metadata": {},
   "source": [
    "利用已获得的随机样本所提供的信息，以一定的概率推断总体的特征和性质称为**统计推断 Statistical Inference**.\n",
    "\n"
   ]
  },
  {
   "cell_type": "markdown",
   "metadata": {},
   "source": [
    "# 参数估计\n",
    "\n",
    "由样本信息估计总体参数称为参数估计 parameter estimation.\n",
    "\n",
    "## 点估计 point estimation\n",
    "即直接用样本统计量来作为总体参数的估计值。没有考虑抽样误差。\n",
    "\n",
    "## 区间估计 interval estimation\n",
    "按一定的概率或可信度($1-\\alpha$)用一个区间估计总体参数的范围，该区间被称为可信度 $1-\\alpha$ 的可信区间(confidence interval, CI)，又称为置信区间。\n",
    "\n",
    "### 总体均数的可信区间\n",
    "\n",
    "$$ P( -t_{\\frac{\\alpha}{2}, \\nu} < \\frac{\\bar{X} - \\mu}{S_{\\bar{X}}} < t_{\\frac{\\alpha}{2}, \\nu}) = 1 - \\alpha $$\n",
    "\n",
    "因此，可信度为($1-\\alpha$)的可信区间为:\n",
    "$$ (\\bar{X} - t_{\\frac{\\alpha}{2}, \\nu} \\cdot S_{\\bar{X}}, \\, \\bar{X} + t_{\\frac{\\alpha}{2}, \\nu} \\cdot S_{\\bar{X}})$$\n",
    "\n",
    "可信区间通常由两个可信限(confidence limit)构成，下限记为$C_L$，上限记为$C_U$。严格而言，可信区间为开区间。\n",
    "\n",
    "当样本量较大时，可用正态分布近似；因此，可信度为($1-\\alpha$)的可信区间可表示为\n",
    "$$ (\\bar{X} - \\mathcal{N}_{\\frac{\\alpha}{2}} \\cdot S_{\\bar{X}}, \\, \\bar{X} + \\mathcal{N}_{\\frac{\\alpha}{2}} \\cdot S_{\\bar{X}}) $$"
   ]
  },
  {
   "cell_type": "markdown",
   "metadata": {},
   "source": [
    "### 两均数之差的区间估计\n",
    "两样本的参数为: $n_1, n_2; \\bar{X_1}, \\bar{X_2}; S_1^2, S_2^2$\n",
    "\n",
    "t值可表示为\n",
    "$$ t = \\frac{(\\bar{X_1} - \\bar{X_2})-(\\mu_1 - \\mu_2)}{S_{\\bar{X_1} - \\bar{X_2}}}$$\n",
    "服从自由度为$\\nu = n_1 + n_2 - 2$的t分布。\n",
    "\n",
    "其中 \n",
    "$$ S_{\\bar{X_1} - \\bar{X_2}} = \\sqrt{S_C^2 (\\frac{1}{n_1}+\\frac{1}{n_2})} $$\n",
    "$$ S_C^2 = \\frac{(n_1 - 1) S_1^2 + (n_2 - 1) S_2^2}{n_1 + n_2 - 2} $$"
   ]
  },
  {
   "cell_type": "markdown",
   "metadata": {},
   "source": [
    "### 总体率的区间估计\n",
    "\n",
    "#### 正态近似法\n",
    "样本量较大，满足 $n (1-P) P > 5$时，可求可信区间为: \n",
    "$$ P \\pm Z_{\\frac{\\alpha}{2}} S_P $$\n",
    "\n",
    "其中\n",
    "$$ S_P = \\sqrt{\\frac{P(1-P)}{n}} $$\n",
    "\n",
    "#### 直接计算概率法\n",
    "查表。"
   ]
  },
  {
   "cell_type": "code",
   "execution_count": null,
   "metadata": {},
   "outputs": [],
   "source": []
  }
 ],
 "metadata": {
  "kernelspec": {
   "display_name": "Julia 0.6.0",
   "language": "julia",
   "name": "julia-0.6"
  },
  "language_info": {
   "file_extension": ".jl",
   "mimetype": "application/julia",
   "name": "julia",
   "version": "0.6.0"
  }
 },
 "nbformat": 4,
 "nbformat_minor": 2
}
