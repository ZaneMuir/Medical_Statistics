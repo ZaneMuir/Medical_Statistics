{
 "cells": [
  {
   "cell_type": "markdown",
   "metadata": {},
   "source": [
    "# Summary"
   ]
  },
  {
   "cell_type": "markdown",
   "metadata": {},
   "source": [
    "- 研究设计 与 调查设计\n",
    "    - 主要分类\n",
    "    - 误差\n",
    "        - 系统误差\n",
    "        - 随机误差\n",
    "    - 设计要素（三个）\n",
    "    - 设计原则（三个）\n",
    "    - 盲法"
   ]
  },
  {
   "cell_type": "markdown",
   "metadata": {},
   "source": [
    "- 计量资料的统计描述\n",
    "    - 统计图表\n",
    "        - 频数表\n",
    "        - 频数图\n",
    "    - 统计指标\n",
    "        - 集中趋势\n",
    "            - 均数 $\\mu$, $\\bar{x}$\n",
    "            - 百分位数 $\\theta_x$, $P_x$\n",
    "        - 离散趋势\n",
    "            - 标准差 $\\sigma$, $S$\n",
    "            - 四分位数范围 IQR\n",
    "            - 变异系数 CV"
   ]
  },
  {
   "cell_type": "markdown",
   "metadata": {},
   "source": [
    "- 分类资料的统计描述\n",
    "    - 统计图表\n",
    "    - 频数分布\n",
    "    - 相对数\n",
    "        - 比\n",
    "        - 比例\n",
    "        - 率\n",
    "    - 相对危险度 RR\n",
    "    - 优势比 OR\n",
    "    - 率的标准化"
   ]
  },
  {
   "cell_type": "markdown",
   "metadata": {},
   "source": [
    "- 概率分布\n",
    "    - 二项分布 $\\mathcal{B}(n,\\pi)$\n",
    "    - 正态分布 $\\mathcal{N}(\\mu, \\sigma^2)$"
   ]
  },
  {
   "cell_type": "code",
   "execution_count": null,
   "metadata": {},
   "outputs": [],
   "source": []
  }
 ],
 "metadata": {
  "kernelspec": {
   "display_name": "Python 3",
   "language": "python",
   "name": "python3"
  },
  "language_info": {
   "codemirror_mode": {
    "name": "ipython",
    "version": 3
   },
   "file_extension": ".py",
   "mimetype": "text/x-python",
   "name": "python",
   "nbconvert_exporter": "python",
   "pygments_lexer": "ipython3",
   "version": "3.6.4"
  }
 },
 "nbformat": 4,
 "nbformat_minor": 2
}
