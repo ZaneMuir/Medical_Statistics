{
 "cells": [
  {
   "cell_type": "code",
   "execution_count": 1,
   "metadata": {},
   "outputs": [],
   "source": [
    "%matplotlib inline\n",
    "import matplotlib.pyplot as plt\n",
    "import scipy.stats\n",
    "import numpy as np"
   ]
  },
  {
   "cell_type": "markdown",
   "metadata": {},
   "source": [
    "# 假设检验\n",
    "\n",
    "用来判断样本与总体、样本与样本之间的差异是由于抽样误差还是本质差别造成的统计方法。\n",
    "\n",
    "保证组间可比性；根据研究目的、资料类型和设计类型选用适当的检验方法，熟悉各种检验方法的应用条件；“显著与否”是统计学术语，为“有无统计学意义”，不能理解为“差别是不是大”；结论不能绝对化。\n",
    "\n",
    "## 思想\n",
    "### 小概率思想\n",
    "小概率事件在一次试验中基本不会发生，$P < 0.05$\n",
    "\n",
    "### 反证法思想\n",
    "\n",
    "\n",
    "### 小概率反证法思想\n",
    "\n",
    "## 基本步骤\n",
    "1. 提出假设检验 \n",
    "    - H0 两总体均数相等 （原假设，无效假设，检验假设）\n",
    "    - H1 两总体均数不等 （被择假设）\n",
    "2. 设定检验水准 $\\alpha$, usu. one-tail: 0.025, two-tail: 0.05\n",
    "3. 选择单双侧检验\n",
    "4. 选择监测方法，并计算统计量\n",
    "5. 计算拒绝范围与非拒绝范围\n",
    "\n",
    "## t值、P值与统计结论\n",
    "\n",
    "|$\\alpha$|abs(t)|p|conclusion|\n",
    "|--------|------|-|----------|\n",
    "|0.05    |$< t_{1/2, \\nu}$|>0.05|accept H0, 差别无统计学意义|\n",
    "|0.05    |$\\ge t_{1/2, \\nu}$|$\\le 0.05$|reject H0, 差别有统计学意义|\n",
    "|0.01    |$\\ge t_{0.01, \\nu}$|$\\le 0.01$|reject H0, 差别有高度统计学意义|\n",
    "\n",
    "\n",
    "u检验和t检验用于样本均数与总体均数的比较。理论上要求样本来自正态分布总体实际中，只要样本例数n较大，或n小但总体标准差σ已知，就选用u检验。n较小且σ未知时，用于t检验。两样本均数比较时还要求两总体方差等。"
   ]
  },
  {
   "cell_type": "markdown",
   "metadata": {},
   "source": [
    "# u检验\n",
    "总体sigma已知或n足够大\n",
    "\n",
    "计算u值\n",
    "$$ u = \\frac{\\bar{x} - \\mu_0}{\\sigma_{\\bar{x}}} = \\frac{\\bar{x} - \\mu_0}{\\dfrac{\\sigma}{\\sqrt{n}}}$$\n",
    "\n",
    "计算临界值:\n",
    "\n",
    "|u|$\\alpha$|\n",
    "|-|--------|\n",
    "|2.58| 0.01|\n",
    "|1.96| 0.05|\n",
    "|1.65| 0.1 |"
   ]
  },
  {
   "cell_type": "markdown",
   "metadata": {},
   "source": [
    "# t检验\n",
    "- sigma未知n较小\n",
    "- 来自正态分布\n",
    "- 双样本时方差要相近\n",
    "\n",
    "计算t值\n",
    "$$ t = \\frac{\\bar{x} - \\mu_0}{S / \\sqrt{n}} $$\n",
    "\n",
    "查询临界值 $t(\\nu)$"
   ]
  },
  {
   "cell_type": "markdown",
   "metadata": {},
   "source": [
    "当n较大时，也可用u检验\n",
    "当x为未知分布，则采用秩和检验"
   ]
  },
  {
   "cell_type": "markdown",
   "metadata": {},
   "source": [
    "# 二类错误\n",
    "\n",
    "弃真，拒绝正确的H0为Ⅰ型错误α表示，若显著性水平α定为0.05，则犯Ⅰ型错误的概率0.05；接受错误的H0为Ⅱ型错误，概率用β表示，β值的大小很难确切估计。当样本含量一定时，两者反比，增大n，当α一定时，可减少β。1-β称为**检验效能或把握度**，其统计意义是若两总体确有差别，按α水准能检出其差别的能力。\n",
    "\n",
    "|| H0 is true | H1 is true|\n",
    "|-|------------|-----------|\n",
    "|reject H0|$\\alpha$ (type I) | $1-\\beta$ |\n",
    "|accept H0|$1 - \\alpha$|$\\beta$ (type II)|"
   ]
  },
  {
   "cell_type": "code",
   "execution_count": 33,
   "metadata": {},
   "outputs": [
    {
     "data": {
      "image/png": "[encoded data removed]",
      "text/plain": [
       "<matplotlib.figure.Figure at 0x10be3ca90>"
      ]
     },
     "metadata": {},
     "output_type": "display_data"
    }
   ],
   "source": [
    "N0 = scipy.stats.norm(loc=0, scale=1)\n",
    "N1 = scipy.stats.norm(loc=3, scale=1)\n",
    "\n",
    "X0 = np.linspace(-4,2,1000)\n",
    "X1 = np.linspace(2,8,1000)\n",
    "\n",
    "\n",
    "Y1 = N0.pdf(X0)\n",
    "Y2 = N1.pdf(X0)\n",
    "Y1.put([0,-1],[0,Y1[-1]])\n",
    "Y2.put([0,-1],[0,0])\n",
    "X0.put([0,-1], [X0[0], X0[-1]])\n",
    "\n",
    "Y3 = N0.pdf(X1)\n",
    "Y4 = N1.pdf(X1)\n",
    "Y3.put([0,-1],[0,0])\n",
    "Y4.put([0,-1],[Y4[0],0])\n",
    "X1.put([0,-1], [X1[0], X1[-1]])\n",
    "\n",
    "plt.figure(figsize=(10,5))\n",
    "\n",
    "plt.plot(X0, Y1, color='c')\n",
    "plt.fill(X0, Y2, alpha=0.8, color='b', label=\"$\\\\beta$\")\n",
    "\n",
    "plt.plot(X1, Y4, color='b')\n",
    "plt.fill(X1, Y3, alpha=0.8, color='c', label=\"$\\\\alpha$\")\n",
    "\n",
    "plt.vlines([2],0,0.5, label=\"$\\\\alpha=0.05$\")\n",
    "plt.legend()\n",
    "plt.show()"
   ]
  },
  {
   "cell_type": "markdown",
   "metadata": {},
   "source": [
    "## 可信区间与假设检验\n",
    "\n",
    "可信区间为量化指标，亦可用于回答假设检验的问题，同时包含更多的信息。"
   ]
  }
 ],
 "metadata": {
  "kernelspec": {
   "display_name": "Python 3",
   "language": "python",
   "name": "python3"
  },
  "language_info": {
   "codemirror_mode": {
    "name": "ipython",
    "version": 3
   },
   "file_extension": ".py",
   "mimetype": "text/x-python",
   "name": "python",
   "nbconvert_exporter": "python",
   "pygments_lexer": "ipython3",
   "version": "3.6.4"
  }
 },
 "nbformat": 4,
 "nbformat_minor": 2
}
