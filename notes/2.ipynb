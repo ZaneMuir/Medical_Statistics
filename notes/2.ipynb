{
 "cells": [
  {
   "cell_type": "markdown",
   "metadata": {},
   "source": [
    "# 基本概念\n",
    "\n",
    "## 定量资料的统计描述\n",
    "- [定量资料的频数图和频数表](#频数表和频数图)\n",
    "- 集中趋势的描述\n",
    "    - [均数](#算数均数-arithmetic-mean)\n",
    "    - [几何均数](#几何均数-geometric-mean)\n",
    "    - [中位数](#中位数-median)\n",
    "    - [百分位数](#百分位数-percentile)\n",
    "- 离散趋势\n",
    "    - [方差](#方差-variance)\n",
    "    - [标准差](#标准差-standard-deviation)\n",
    "    - [全距](#全距-range,-R)\n",
    "    - [四分位数范围](#四分位数范围-inter-quartile-range,-IQR)\n",
    "    - [变异系数](#变异系数-coefficient of-variation,-CV)\n",
    "    \n",
    "## 分类资料的统计描述\n",
    "- "
   ]
  },
  {
   "cell_type": "markdown",
   "metadata": {},
   "source": [
    "# 定量资料"
   ]
  },
  {
   "cell_type": "markdown",
   "metadata": {},
   "source": [
    "## 频数表和频数图\n",
    "\n",
    "### 编制方法\n",
    "1. 求全距\n",
    "2. 确定组段数和组距\n",
    "3. 确定各个组段的上下限\n",
    "4. 统计各组段的频数和频率\n",
    "5. 制表或绘图。在各组组距不等时，通常用频数图。\n",
    "\n",
    "### 用途\n",
    "1. 揭示资料分布类型\n",
    "2. 显示频数分布的集中趋势和离散趋势\n",
    "3. 有助于发现某些特大或特小的可疑值\n",
    "4. 便于作进一步的统计分析\n",
    "\n",
    "---"
   ]
  },
  {
   "cell_type": "markdown",
   "metadata": {},
   "source": [
    "## 集中趋势 Central Tendency\n",
    "\n",
    "### 算数均数 arithmetic mean\n",
    "1. 总体均数\n",
    "2. 样本均数\n",
    "\n",
    "#### 原始数据的计算\n",
    "$$ \\bar{X} = \\frac{1}{n} \\sum_{i=1}^n X_i $$\n",
    "\n",
    "#### 频数表的计算\n",
    "$$ \\bar{X} = \\frac{\\sum_i f_i X_i}{\\sum_i f_i} $$\n",
    "\n",
    "### 几何均数 geometric mean\n",
    "\n",
    "适用于对数对称分布。\n",
    "\n",
    "#### 原始数据的计算\n",
    "$$ G = (\\prod_{i=1}^n X_i)^{\\frac{1}{n}} $$\n",
    "或者\n",
    "$$ G = \\log^{-1} (\\frac{\\sum_i \\log X_i}{n}) $$\n",
    "\n",
    "#### 频数表的计算\n",
    "$$ G = \\log^{-1} (\\frac{\\sum_i f_i \\log X_i}{\\sum_i f_i}) $$\n",
    "\n",
    "### 中位数 median\n",
    "$$ M = \n",
    "    \\begin{cases}\n",
    "        X_{\\frac{n+1}{2}} , & \\quad n 为奇数时\\\\\n",
    "        \\frac{1}{2} (X_{\\frac{n}{2}} + X_{\\frac{n}{2}+1}), & \\quad n 为偶数时\n",
    "    \\end{cases}\n",
    "$$\n",
    "\n",
    "\n",
    "- 适用于任何分布的定量资料，还可用于开口资料（i.e. 物确切最大值和/或无确切最小值的资料）。\n",
    "- 当资料成(对数)对称分布时，理论上中位数与(几何)均数相等\n",
    "\n",
    "### 百分位数 percentile\n",
    "总体百分位数$\\theta_x$的意义是指研究问题所对应的全体研究对象中，有x%的观察值小于等于$\\theta_x$，同样有(100-x)%的观察值大于等于$\\theta_x$。\n",
    "\n",
    "样本资料的百分位数是描述一组数据某百分位的位置指标，用$P_x$表示。\n",
    "\n",
    "$$ P_x = \\begin{cases}\n",
    "    \\frac{1}{2}(X_{[nx\\%]} + X_{[nx\\%]+1}), & \\quad nx\\%为整数\\\\\n",
    "    X_{[nx\\%]+1}, & \\quad nx\\%为非整数\n",
    "\\end{cases}$$\n",
    "\n",
    "---\n"
   ]
  },
  {
   "cell_type": "markdown",
   "metadata": {},
   "source": [
    "## 离散趋势 Dispersion Tendency\n",
    "\n",
    "### 方差 variance\n",
    "描述了全体研究对杨取值的平均离散程度。\n",
    "\n",
    "$$ S^2 = \\frac{\\sum_{i=1}^n (X_i - \\bar{X})^2}{n-1} $$\n",
    "\n",
    "### 标准差 standard deviation\n",
    "由于样本均数适用于对称分布的资料，因而样本标准差一般适用于近似对称分布的样本资料。\n",
    "\n",
    "$$ S = \\sqrt{\\frac{1}{n-1} \\sum_{i=1}^n (X_i - \\bar{X})^2} = \\sqrt{\\frac{1}{n-1}(\\sum_{i=1}^n X_i^2 - \\frac{1}{n}(\\sum_{i=1}^n X_i)^2 )} $$\n",
    "\n",
    "### 全距 range, R\n",
    "亦称极差。\n",
    "\n",
    "$$ R = X_{max} - X_{min} $$\n",
    "\n",
    "### 四分位数范围 inter-quartile range, IQR\n",
    "i.e. ($P_{25}$,$P_{75}$)，刻画了中位数两侧的50%资料的离散程度。\n",
    "稳定性交全距更优，对于非对称分布的资料而言，这也是一个较好的统计描述指标。\n",
    "\n",
    "### 变异系数 coefficient of variation, CV\n",
    "若几组资料的量纲不同，或均数相差悬殊，比较各组间的变异度宜用变异系数。\n",
    "\n",
    "$$ CV = \\frac{S}{\\bar{X}} \\times 100\\% $$\n",
    "\n",
    "---"
   ]
  },
  {
   "cell_type": "markdown",
   "metadata": {},
   "source": [
    "# 分类资料"
   ]
  },
  {
   "cell_type": "markdown",
   "metadata": {},
   "source": [
    "## 分类资料频数表\n",
    "类似。"
   ]
  },
  {
   "cell_type": "markdown",
   "metadata": {},
   "source": [
    "## 常用统计量\n",
    "常称为相对数统计量，简称相对数。\n",
    "### 比 ratio\n",
    "又称相对比。\n",
    "\n",
    "$$ ratio = \\frac{A}{B} $$\n",
    "\n",
    "### 比例 proportion\n",
    "又称百分比\n",
    "\n",
    "### 率 rate\n",
    "具有时期概念的指标，在某一时段内某现象发生的频率或强度。\n",
    "\n",
    "$$ rate = \\frac{\\mathrm{该时期内发生某事的观察单位数}}{\\mathrm{某时期开始时暴露的观察单位数}} $$\n",
    "\n",
    "$$ incidence\\; rate = \\frac{\\mathrm{发生某事件的观察单位数}}{\\sum (观擦单位 \\times 观察时间)} $$\n",
    "\n",
    "$$ 累计发生率 = 1 - \\exp(- 发生率 \\times 该时期的时间长度) $$"
   ]
  },
  {
   "cell_type": "markdown",
   "metadata": {},
   "source": [
    "## 相对数应用的注意事项\n",
    "\n",
    "- 计算相对数时分母不宜过小\n",
    "- 分析时要根据研究设计和研究问题选择相对数指标\n",
    "- 不随意对多个样本进行合并计算\n",
    "- 比较相对数时应注意可比性"
   ]
  },
  {
   "cell_type": "markdown",
   "metadata": {},
   "source": [
    "## 率的标准化\n",
    "\n",
    "### 基本思想\n",
    "选择一个具有代表性的人群作为参照人群，按参照人群的年龄构成信息进行标化，消除两地年龄构成不同的不可比现象。\n",
    "\n",
    "### 直接标化方法\n",
    "$$ P' = \\frac{1}{N} \\sum_{i=1}^m N_i p_i = \\sum_{i=1}^m \\frac{N_i}{N} p_i$$\n",
    "\n",
    "### 间接标化方法\n",
    "\n",
    "---"
   ]
  },
  {
   "cell_type": "markdown",
   "metadata": {},
   "source": [
    "# 统计表与统计图\n",
    "\n",
    "## 统计表\n",
    "\n",
    "### 编制\n",
    "- 结构：标题、标目、线条和数字等\n",
    "- 原则：重点突出，主谓分明，层次清楚\n",
    "- 要求：\n",
    "    - 标题：概括主要内容\n",
    "    - 标目：纵标目与横标目，简明清楚\n",
    "    - 线条：近量少\n",
    "    - 数字：阿拉伯数字\n",
    "    - 备注\n",
    "\n",
    "### 种类\n",
    "- 简单表\n",
    "- 复合表\n",
    "\n",
    "## 统计图\n",
    "\n",
    "### 条图 bar graph\n",
    "\n",
    "### 饼图 pie graph\n",
    "\n",
    "### 线图 line graph\n",
    "\n",
    "### 半对数线图\n",
    "\n",
    "### 直方图 histogram\n",
    "\n",
    "### 散点图 scatter graph"
   ]
  },
  {
   "cell_type": "markdown",
   "metadata": {},
   "source": []
  }
 ],
 "metadata": {
  "kernelspec": {
   "display_name": "Julia 0.6.0",
   "language": "julia",
   "name": "julia-0.6"
  },
  "language_info": {
   "file_extension": ".jl",
   "mimetype": "application/julia",
   "name": "julia",
   "version": "0.6.0"
  }
 },
 "nbformat": 4,
 "nbformat_minor": 2
}
