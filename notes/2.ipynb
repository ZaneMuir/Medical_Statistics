{
 "cells": [
  {
   "cell_type": "markdown",
   "metadata": {},
   "source": [
    "# 基本概念\n",
    "\n",
    "## 定量资料的统计描述\n",
    "- [定量资料的频数图和频数表](#频数表和频数图)\n",
    "- 集中趋势的描述\n",
    "    - [均数]()\n",
    "    - [几何均数]()\n",
    "    - [中位数]()\n",
    "- "
   ]
  },
  {
   "cell_type": "markdown",
   "metadata": {},
   "source": [
    "# 定量资料\n"
   ]
  },
  {
   "cell_type": "markdown",
   "metadata": {},
   "source": [
    "## 频数表和频数图\n",
    "\n",
    "### 编制方法\n",
    "1. 求全距\n",
    "2. 确定组段数和组距\n",
    "3. 确定各个组段的上下限\n",
    "4. 统计各组段的频数和频率\n",
    "5. 制表或绘图。在各组组距不等时，通常用频数图。\n",
    "\n",
    "### 用途\n",
    "1. 揭示资料分布类型\n",
    "2. 显示频数分布的集中趋势和离散趋势\n",
    "3. 有助于发现某些特大或特小的可疑值\n",
    "4. 便于作进一步的统计分析\n",
    "\n",
    "---"
   ]
  },
  {
   "cell_type": "markdown",
   "metadata": {},
   "source": [
    "## 集中趋势 Central Tendency\n",
    "\n",
    "### 算数均数 arithmetic mean\n",
    "1. 总体均数\n",
    "2. 样本均数\n",
    "\n",
    "#### 原始数据的计算\n",
    "$$ \\bar{X} = \\frac{1}{n} \\sum_{i=1}^n X_i $$\n",
    "\n",
    "#### 频数表的计算\n",
    "$$ \\bar{X} = \\frac{\\sum_i f_i X_i}{\\sum_i f_i} $$\n",
    "\n",
    "### 几何均数 geometric mean\n",
    "\n",
    "适用于对数对称分布。\n",
    "\n",
    "#### 原始数据的计算\n",
    "$$ G = (\\prod_{i=1}^n X_i)^{\\frac{1}{n}} $$\n",
    "或者\n",
    "$$ G = \\log^{-1} (\\frac{\\sum_i \\log X_i}{n}) $$\n",
    "\n",
    "#### 频数表的计算\n",
    "$$ G = \\log^{-1} (\\frac{\\sum_i f_i \\log X_i}{\\sum_i f_i}) $$\n",
    "\n",
    "### 中位数 median\n",
    "$$ M = \n",
    "    \\begin{cases}\n",
    "        X_{\\frac{n+1}{2}} , & \\quad n 为奇数时\\\\\n",
    "        \\frac{1}{2} (X_{\\frac{n}{2}} + X_{\\frac{n}{2}+1}), & \\quad n 为偶数时\n",
    "    \\end{cases}\n",
    "$$\n",
    "\n",
    "适用于任何分布的定量资料，还可用于开口资料（）\n",
    "\n"
   ]
  },
  {
   "cell_type": "code",
   "execution_count": null,
   "metadata": {},
   "outputs": [],
   "source": []
  }
 ],
 "metadata": {
  "kernelspec": {
   "display_name": "Julia 0.6.0",
   "language": "julia",
   "name": "julia-0.6"
  },
  "language_info": {
   "file_extension": ".jl",
   "mimetype": "application/julia",
   "name": "julia",
   "version": "0.6.0"
  }
 },
 "nbformat": 4,
 "nbformat_minor": 2
}
