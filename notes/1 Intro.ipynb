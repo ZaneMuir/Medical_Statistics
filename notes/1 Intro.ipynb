{
 "cells": [
  {
   "cell_type": "markdown",
   "metadata": {},
   "source": [
    "# 基本概念\n",
    "\n",
    "|term|yangwen|definition|\n",
    "|----|-------|----------|\n",
    "|观察单位|observation unit|根据研究目的所确定的最基本的抽样单位|\n",
    "|个体|individual|同“观察单位”|\n",
    "|<div style=\"color:red\">**总体**</div>|population|根据研究目的所确定的所有同质个体某指标实际值的集合|\n",
    "|同质性|homogeneity|研究对象在一定范畴内的各种可能影响主要观察指标的其他因素处于相同或非常相似的情况|\n",
    "|<div style=\"color:red\">**样本**</div>|sample|从一个研究问题所确定的研究对象中抽出一部分个体，这些个体的研究指标的测量值构成的集合|\n",
    "|样本量|sample size|样本中的个体总数|\n",
    "|变量|variable|亦称观察指标。|\n",
    "|资料|data|变量的取值，即观察值或测量值或对应的观察结果|\n",
    "|随机试验||结果具有随机性的观察或者试验的统称|\n",
    "|随机事件|random event|随机试验的每种可能的结果，简称事件|\n",
    "|频率|frequency|在n次随机试验中，随机事件A发生了m次，则称A发生的频率为 $f = \\frac{m}{n}$|\n",
    "|概率|probability|刻画某随机事件发生的可能性大小的度量指标，取值介于0到1的闭区间|\n",
    "|<div style=\"color:red\">**小概率事件**</div>||随机事件发生的概率小于或等于0.05|\n",
    "|小概率事件原理||一般可以***认为***小概率事件在一次随机抽样中不会发生|\n",
    "|<div style=\"color:red\">**总体参数**</div>|parameter|刻画总体特征的指标的统称|\n",
    "|<div style=\"color:red\">**统计量**</div>|statistic|刻画样本特征的指标的统称|\n",
    "|个体变异|individual variation|同质个体中同一观察指标的个体观察值之间的差异|\n",
    "|变异分布规律||观察值出现在不同范围对应不同的概率，即观察指标取值的概率分布|\n",
    "|抽样误差|sampling error|样本统计量与总体参数之间的差异；抽样误差是有规律的，是可以被认识和可控的|\n",
    "|抽样分布|sampling distribution|样本统计量的概率分布|\n",
    "\n"
   ]
  },
  {
   "cell_type": "markdown",
   "metadata": {},
   "source": [
    "## 变量的分类\n",
    "- 定量资料\n",
    "- 定性资料\n",
    "- 等级资料\n",
    "\n",
    "\n",
    "- 数值变量资料\n",
    "- 分类资料\n",
    "    - 二分类\n",
    "    - 多分类\n",
    "        - 无序多分类\n",
    "        - 有序多分类\n",
    "        \n",
    "\n",
    "- 连续型资料\n",
    "- 离散型资料"
   ]
  },
  {
   "cell_type": "markdown",
   "metadata": {},
   "source": [
    "## 主要的步骤\n",
    "\n",
    "- 研究设计\n",
    "- 搜集资料\n",
    "- 整理资料\n",
    "- 资料分析\n",
    "- 结论"
   ]
  }
 ],
 "metadata": {
  "kernelspec": {
   "display_name": "Julia 0.6.0",
   "language": "julia",
   "name": "julia-0.6"
  },
  "language_info": {
   "file_extension": ".jl",
   "mimetype": "application/julia",
   "name": "julia",
   "version": "0.6.0"
  }
 },
 "nbformat": 4,
 "nbformat_minor": 2
}
