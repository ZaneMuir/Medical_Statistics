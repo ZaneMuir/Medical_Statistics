{
 "cells": [
  {
   "cell_type": "markdown",
   "metadata": {},
   "source": [
    "# Summary"
   ]
  },
  {
   "cell_type": "markdown",
   "metadata": {},
   "source": [
    "- 研究设计 与 调查设计\n",
    "    - 主要分类\n",
    "    - 误差\n",
    "        - 系统误差\n",
    "        - 随机误差\n",
    "    - 设计要素（三个）\n",
    "    - 设计原则（三个）\n",
    "    - 盲法"
   ]
  },
  {
   "cell_type": "markdown",
   "metadata": {},
   "source": [
    "- 计量资料的统计描述\n",
    "    - 统计图表\n",
    "        - 频数表\n",
    "        - 频数图\n",
    "    - 统计指标\n",
    "        - 集中趋势\n",
    "            - 均数 $\\mu$, $\\bar{x}$\n",
    "            - 百分位数 $\\theta_x$, $P_x$\n",
    "        - 离散趋势\n",
    "            - 标准差 $\\sigma$, $S$\n",
    "            - 四分位数范围 IQR\n",
    "            - 变异系数 CV"
   ]
  },
  {
   "cell_type": "markdown",
   "metadata": {},
   "source": [
    "- 分类资料的统计描述\n",
    "    - 统计图表\n",
    "    - 频数分布\n",
    "    - 相对数\n",
    "        - 比\n",
    "        - 比例\n",
    "        - 率\n",
    "    - 相对危险度 RR\n",
    "    - 优势比 OR\n",
    "    - 率的标准化"
   ]
  },
  {
   "cell_type": "markdown",
   "metadata": {},
   "source": [
    "- 概率分布\n",
    "    - 二项分布 $\\mathcal{B}(n,\\pi)$\n",
    "    - 正态分布 $\\mathcal{N}(\\mu, \\sigma^2)$\n",
    "    - 二项分布与正态分布的关联"
   ]
  },
  {
   "cell_type": "markdown",
   "metadata": {},
   "source": [
    "- 抽样分布\n",
    "    - 标准误\n",
    "    - 中心极限定理\n",
    "    - t分布\n",
    "    - $\\chi^2$分布\n",
    "    - F分布"
   ]
  },
  {
   "cell_type": "markdown",
   "metadata": {},
   "source": [
    "- 统计推断\n",
    "    - 点估计\n",
    "    - 区间估计\n",
    "        - 可信区间\n",
    "        - 总体均数的估计\n",
    "        - 两均数之差的区间估计\n",
    "        - 总体率$\\pi$的区间估计"
   ]
  },
  {
   "cell_type": "markdown",
   "metadata": {},
   "source": [
    "- 假设检验\n",
    "    - 一般步骤\n",
    "    - 假设检验的两类错误"
   ]
  },
  {
   "cell_type": "markdown",
   "metadata": {},
   "source": [
    "- 两样本定量资料\n",
    "    - 两独立样本连续性定量资料\n",
    "        - 独立性\n",
    "        - 正态性检验 或 样本容量足够大\n",
    "            - Shapiro-Wilk 正态性检验\n",
    "        - 方差齐性\n",
    "            - F检验\n",
    "        - t检验 (Student's t test)\n",
    "        - t'检验 (Welch's t test)\n",
    "    - 配对设计资料\n",
    "        - 配对t检验"
   ]
  },
  {
   "cell_type": "markdown",
   "metadata": {},
   "source": [
    "- 无序分类资料\n",
    "    - 两独立样本的四格表资料\n",
    "        - $\\chi^2$检验\n",
    "        - 校正$\\chi^2$检验\n",
    "        - Fisher精确概率检验\n",
    "    - 配对四格表资料\n",
    "        - McNemar检验\n",
    "        - 校正McNemar检验"
   ]
  }
 ],
 "metadata": {
  "kernelspec": {
   "display_name": "Python 3",
   "language": "python",
   "name": "python3"
  },
  "language_info": {
   "codemirror_mode": {
    "name": "ipython",
    "version": 3
   },
   "file_extension": ".py",
   "mimetype": "text/x-python",
   "name": "python",
   "nbconvert_exporter": "python",
   "pygments_lexer": "ipython3",
   "version": "3.6.4"
  }
 },
 "nbformat": 4,
 "nbformat_minor": 2
}
