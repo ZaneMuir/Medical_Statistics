{
 "cells": [
  {
   "cell_type": "code",
   "execution_count": 24,
   "metadata": {},
   "outputs": [],
   "source": [
    "%matplotlib inline\n",
    "import matplotlib.pyplot as plt\n",
    "import scipy.stats\n",
    "import numpy as np"
   ]
  },
  {
   "cell_type": "markdown",
   "metadata": {},
   "source": [
    "# 概要\n",
    "\n",
    "- 二项分布\n",
    "- Poisson分布\n",
    "- 正态分布\n",
    "\n",
    "---\n",
    "\n",
    "$$ Var(kx) = k^2 Var(x) $$\n",
    "\n",
    "$$ Var(u \\pm v) = Var(u) + Var(v) \\pm 2 \\times Covar(u,v) $$"
   ]
  },
  {
   "cell_type": "markdown",
   "metadata": {},
   "source": [
    "# 二项分布\n",
    "在概率论中，称只有两种可能结果的随机实验为Bernoulli试验。\n",
    "\n",
    "若每次试验的结果是且只能是事件A发生或不发生这两个相互对立的结果之一，事件A出现的概率为$\\pi$，不出现的概率为$1-\\pi$，设X为“事件A出现的次数”，则n次独立重复试验后，事件A出现的次数X服从二项分布，记为$X \\sim B(n, \\pi)$：\n",
    "\n",
    "$$ P(X = x) = \\mathrm{C}_n^x (1-\\pi)^{n-x} \\pi^x $$\n",
    "\n",
    "其中: $$ \\mathrm{C}_n^x = \\frac{n!}{x! (n-x)!} $$\n",
    "\n",
    "### 性质与特点\n",
    "- $x \\in \\mathbb{N}$\n",
    "- X的总体均数为 $\\mu = n \\pi$\n",
    "- X的总体方差为 $\\sigma^2 = n \\pi (1-\\pi)$\n",
    "- 经验上，当$n \\pi > 5$同时$n (1 - \\pi)>5$时，可近似认为对称。\n",
    "\n",
    "### 条件\n",
    "- 每次试验只有两种可能的结果\n",
    "- 各次试验相互独立\n",
    "- 发生成功事件的概率不变"
   ]
  },
  {
   "cell_type": "code",
   "execution_count": 61,
   "metadata": {},
   "outputs": [
    {
     "data": {
      "image/png": "[encoded data removed]",
      "text/plain": [
       "<matplotlib.figure.Figure at 0x10dfd6ba8>"
      ]
     },
     "metadata": {},
     "output_type": "display_data"
    }
   ],
   "source": [
    "x = np.array(range(30))\n",
    "rv_3  = scipy.stats.binom(3, 0.6)\n",
    "rv_6  = scipy.stats.binom(6, 0.6)\n",
    "rv_12 = scipy.stats.binom(12,0.6)\n",
    "rv_24 = scipy.stats.binom(24,0.6)\n",
    "plt.figure(figsize=(10,3))\n",
    "plt.vlines(x, 0, rv_3.pmf(x),colors=\"r\", label=\"$\\mathcal{B}(3,0.8)$\")\n",
    "plt.vlines(x+0.2, 0, rv_6.pmf(x),colors=\"g\", label=\"$\\mathcal{B}(6,0.8)$\")\n",
    "plt.vlines(x+0.4, 0, rv_12.pmf(x),colors=\"b\", label=\"$\\mathcal{B}(12,0.8)$\")\n",
    "plt.vlines(x+0.6, 0, rv_24.pmf(x),colors=\"c\", label=\"$\\mathcal{B}(24,0.8)$\")\n",
    "\n",
    "plt.title(\"Binorminal Distribution\")\n",
    "plt.legend()\n",
    "plt.show()"
   ]
  },
  {
   "cell_type": "markdown",
   "metadata": {},
   "source": [
    "# 正态分布\n",
    "$X \\sim \\mathcal{N}(\\mu, \\sigma^2)$\n",
    "\n",
    "$$ p(x) = \\frac{1}{\\sigma \\sqrt{2 \\pi}} \\exp(- \\frac{(x - \\mu)^2}{2 \\sigma^2}) $$\n",
    "\n",
    "### 性质与特点\n",
    "- N(0,1)有被称为标准正态分布\n",
    "- 标准化变换(U变换): $u = \\frac{x - \\mu}{\\sigma}$, $u \\sim \\mathcal{N}(0,1)$\n",
    "- 正态分布不会被线性变换所改变。\n",
    "\n",
    "|probability|$\\mu \\pm n \\sigma$|\n",
    "|--|--|\n",
    "|0.90|1.64|\n",
    "|0.95|<div style=\"color:red\">1.96</div>|\n",
    "|0.99|2.58|\n",
    "\n",
    "### 二项分布关联\n",
    "当$n\\pi$和$n(1-\\pi)$均较大时，二项分布逼近于$\\mathcal{N}(n\\pi, n\\pi(1-\\pi))$\n",
    "\n",
    "usu. $n\\pi>5$, $n(1-\\pi)>5$, $n>40$"
   ]
  },
  {
   "cell_type": "code",
   "execution_count": 60,
   "metadata": {
    "scrolled": false
   },
   "outputs": [
    {
     "data": {
      "image/png": "[encoded data removed]",
      "text/plain": [
       "<matplotlib.figure.Figure at 0x10e430908>"
      ]
     },
     "metadata": {},
     "output_type": "display_data"
    }
   ],
   "source": [
    "x = np.linspace(-5,5,500)\n",
    "u = scipy.stats.norm(0,1)\n",
    "plt.figure(figsize=(10,5))\n",
    "plt.fill(x, u.pdf(x),alpha=0.6)\n",
    "plt.title(\"Normal Distribution\")\n",
    "plt.show()"
   ]
  },
  {
   "cell_type": "markdown",
   "metadata": {},
   "source": [
    "# 概念辨析\n",
    "\n",
    "### 确定性事件 vs 随机性事件\n",
    "\n",
    "### 随机试验 vs 随机事件\n",
    "随机试验的任一个结果均称为随机事件。\n",
    "\n",
    "### 离散型随机变量分布 vs 连续型随机变量分布\n",
    "\n",
    "### 二项分布 vs 两点分布\n",
    "n=1的二项分布称为两点分布\n",
    "\n",
    "### 正态分布 vs 对称分布\n",
    "\n",
    "### 实际研究中二项分布的应用与独立性要求\n",
    "\n",
    "## 医学参考值范围的正态分布法与百分位数法\n",
    "该指标正常的大多数人的范围。: 排除了影响所研究指标的疾病和有关因素的同质人群。\n",
    "\n",
    "- 正态分布资料： $\\bar{X} \\pm 1.96 s$ (two tails), $\\bar{X} \\pm 1.645 s$ (one tail)\n",
    "- 百分位数法：$P_{2.5}$ and $P_{97.5}$ (two tails), $P_{5}$ or $P_{95}$(one tail)"
   ]
  },
  {
   "cell_type": "markdown",
   "metadata": {},
   "source": [
    "# 三种分布的关系\n",
    "\n",
    "## 二项分布 与 正态分布\n",
    "当$n\\pi$和$n(1-\\pi)$均较大时，二项分布逼近于$$\\mathcal{N}(n\\pi, n\\pi(1-\\pi))$$\n",
    "usu. $n\\pi>5$, $n(1-\\pi)>5$, $n>40$\n",
    "\n",
    "且样本率$P = \\frac{X}{n}$近似正态分布$\\mathcal{N}(\\pi, \\pi (1-\\pi)/\\pi)$\n",
    "\n",
    "## Poisson分布 与 二项分布\n",
    "当n很大，$\\pi$很小时，$\\mathcal{B}(n,\\pi)$逼近$\\mathcal{P}(n\\pi)$。\n",
    "\n",
    "## Poisson分布 与 正态分布\n",
    "当均数$\\mu$较大时(usu. >20)可用正态分布拟合。"
   ]
  },
  {
   "cell_type": "markdown",
   "metadata": {},
   "source": [
    "# Poisson 分布\n",
    "通常用来描述随机事件A在单位时间（或单位空间）内发生次数X的概率分布。记为$X \\sim P(\\mu)$\n",
    "\n",
    "$$ P(X = k) = \\frac{\\mu^k}{k!}e^{-mu} $$\n",
    "\n",
    "### 性质与特点\n",
    "- 离散型分布\n",
    "- mu为均数，也为方差。可作为是否为Poisson的依据。\n",
    "- 设$X_1 \\sim P(\\mu_1),\\; X_2 \\sim P(\\mu_2)$，并且$X_1$和$X_2$相互独立，则$Y = X_1 + X_2$满足$Y \\sim P(\\mu_1+\\mu_2)$\n",
    "- 当$n \\to \\infty$时，二项分布近似于Poisson分布。因此当n很大而pi很小时，可以用Poisson分布近似二项分布。\n",
    "\n",
    "### 条件\n",
    "- 平稳性\n",
    "- 独立增量性\n",
    "- 普通性"
   ]
  },
  {
   "cell_type": "markdown",
   "metadata": {},
   "source": [
    "## multivariate normal distribution\n",
    "\n",
    "$$ {\\displaystyle \\mathbf {X} \\ \\sim \\ {\\mathcal {N}}_{k}({\\boldsymbol {\\mu }},\\,{\\boldsymbol {\\Sigma }}),}$$\n",
    "\n",
    "$$ {\\displaystyle {\\boldsymbol {\\mu }}=\\operatorname {E} [\\mathbf {X} ]=[\\operatorname {E} [X_{1}],\\operatorname {E} [X_{2}],\\ldots ,\\operatorname {E} [X_{k}]]^{\\rm {T}},} $$\n",
    "\n",
    "$$ {\\displaystyle {\\boldsymbol {\\Sigma }}=:\\operatorname {E} [(\\mathbf {X} -{\\boldsymbol {\\mu }})(\\mathbf {X} -{\\boldsymbol {\\mu }})^{\\rm {T}}]=[\\operatorname {Cov} [X_{i},X_{j}];1\\leq i,j\\leq k].}$$\n",
    "\n",
    "### PDF\n",
    "$${\\displaystyle {\\begin{aligned}f_{\\mathbf {X} }(x_{1},\\ldots ,x_{k})&={\\frac {\\exp \\left(-{\\frac {1}{2}}({\\mathbf {x} }-{\\boldsymbol {\\mu }})^{\\mathrm {T} }{\\boldsymbol {\\Sigma }}^{-1}({\\mathbf {x} }-{\\boldsymbol {\\mu }})\\right)}{\\sqrt {(2\\pi )^{k}|{\\boldsymbol {\\Sigma }}|}}}\\end{aligned}}}$$"
   ]
  },
  {
   "cell_type": "markdown",
   "metadata": {},
   "source": [
    "$$L(x):=\\sum _{j=0}^{k}y_{j}\\ell _{j}(x)$$\n",
    "\n",
    "$$\\ell _{j}(x):=\\prod _{\\begin{smallmatrix}0\\leq m\\leq k\\\\m\\neq j\\end{smallmatrix}}{\\frac {x-x_{m}}{x_{j}-x_{m}}}={\\frac {(x-x_{0})}{(x_{j}-x_{0})}}\\cdots {\\frac {(x-x_{j-1})}{(x_{j}-x_{j-1})}}{\\frac {(x-x_{j+1})}{(x_{j}-x_{j+1})}}\\cdots {\\frac {(x-x_{k})}{(x_{j}-x_{k})}}$$"
   ]
  }
 ],
 "metadata": {
  "kernelspec": {
   "display_name": "Python 3",
   "language": "python",
   "name": "python3"
  },
  "language_info": {
   "codemirror_mode": {
    "name": "ipython",
    "version": 3
   },
   "file_extension": ".py",
   "mimetype": "text/x-python",
   "name": "python",
   "nbconvert_exporter": "python",
   "pygments_lexer": "ipython3",
   "version": "3.6.4"
  }
 },
 "nbformat": 4,
 "nbformat_minor": 2
}
