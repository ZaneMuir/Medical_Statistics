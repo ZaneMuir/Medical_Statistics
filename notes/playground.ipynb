{
 "cells": [
  {
   "cell_type": "code",
   "execution_count": 41,
   "metadata": {},
   "outputs": [],
   "source": [
    "using TikzGraphs\n",
    "using LightGraphs\n",
    "using TikzPictures"
   ]
  },
  {
   "cell_type": "code",
   "execution_count": 42,
   "metadata": {},
   "outputs": [],
   "source": [
    "g = DiGraph(13)\n",
    "add_edge!(g, 1, 2)\n",
    "add_edge!(g, 2, 3)\n",
    "add_edge!(g, 3, 4)\n",
    "add_edge!(g, 3, 5)\n",
    "\n",
    "add_edge!(g, 1, 6)\n",
    "add_edge!(g, 6, 7)\n",
    "add_edge!(g, 7, 8)\n",
    "add_edge!(g, 7, 9)\n",
    "add_edge!(g, 8, 10)\n",
    "add_edge!(g, 10, 11)\n",
    "add_edge!(g, 10, 12)\n",
    "add_edge!(g, 10, 13)\n",
    "names = [\"exposure factors?\",\n",
    "    \"experimental research\",\n",
    "    \"random group?\",\n",
    "    \"random control test\",\n",
    "    \"non-random control test\",\n",
    "    \"observational research\",\n",
    "    \"having control group?\",\n",
    "    \"analytic research\",\n",
    "    \"descriptive research\",\n",
    "    \"direction\",\n",
    "    \"cohort\",\n",
    "    \"cross-\",\n",
    "    \"case control\"]\n",
    "\n",
    "t = TikzGraphs.plot(g,names,edge_labels=Dict(\n",
    "        (1,2)=>\"Y\", (1,6)=>\"N\", (3,4)=>\"Y\", (3,5)=>\"N\", \n",
    "        (7,8)=>\"Y\", (7,9)=>\"N\",\n",
    "        #(10,11) => \"f->c\",\n",
    "        #(10,12) => \"fc\",\n",
    "        #(10,13) => \"f<-c\"))\n",
    "        ), options=\"scale=1.5\")\n",
    "TikzPictures.save(SVG(\"graph\"), t)"
   ]
  },
  {
   "cell_type": "code",
   "execution_count": 43,
   "metadata": {},
   "outputs": [
    {
     "data": {
      "text/plain": [
       "\"/Users/zane/Desktop/Study/Medical_Statistics/notes\""
      ]
     },
     "execution_count": 43,
     "metadata": {},
     "output_type": "execute_result"
    }
   ],
   "source": [
    "pwd()"
   ]
  },
  {
   "cell_type": "markdown",
   "metadata": {},
   "source": [
    "![](graph.svg)"
   ]
  },
  {
   "cell_type": "code",
   "execution_count": null,
   "metadata": {},
   "outputs": [],
   "source": []
  }
 ],
 "metadata": {
  "kernelspec": {
   "display_name": "Julia 0.6.0",
   "language": "julia",
   "name": "julia-0.6"
  },
  "language_info": {
   "file_extension": ".jl",
   "mimetype": "application/julia",
   "name": "julia",
   "version": "0.6.0"
  }
 },
 "nbformat": 4,
 "nbformat_minor": 2
}
