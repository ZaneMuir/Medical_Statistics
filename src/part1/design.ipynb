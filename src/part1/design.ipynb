{
 "cells": [
  {
   "cell_type": "markdown",
   "metadata": {},
   "source": [
    "# 研究设计\n",
    "\n",
    "- P 群体\n",
    "- I 干预组\n",
    "- C 对照组\n",
    "- O 观测指标\n",
    "\n",
    "\n",
    "非劣效\n"
   ]
  },
  {
   "cell_type": "markdown",
   "metadata": {},
   "source": [
    "## 临床研究的分类\n",
    "- 是否指派了暴露因素\n",
    "    - 是：实验性研究 ：是否随机分配\n",
    "        - 随机对照试验\n",
    "        - 非随机对照实验\n",
    "    - 否：观察性研究 ：是否设对照组\n",
    "        - 分析性研究\n",
    "            - 队列研究：暴露因素->结果\n",
    "            - 病例对照研究：暴露因素<-结果\n",
    "            - 横断面研究：暴露因素与结果同时\n",
    "        - 描述性研究\n",
    "        \n",
    "![design](design.svg)"
   ]
  },
  {
   "cell_type": "markdown",
   "metadata": {},
   "source": [
    "## 误差\n",
    "### 随机误差 random error\n",
    "无法避免，但有一定规律性，可以估计\n",
    "\n",
    "### 系统误差，偏倚 bias\n",
    "- 非实验因素造成的\n",
    "- 有一定方向性\n",
    "- 测量偏倚：注意是否会对观测指标产生差异\n",
    "- 选择性偏倚："
   ]
  },
  {
   "cell_type": "markdown",
   "metadata": {},
   "source": [
    "## 实验设计要素\n",
    "- **受试对象 subject** <br>\n",
    "根据研究目的确定的研究总体，有一定的同质性；严格界定、对处理因素敏感、反应稳定。\n",
    "    - 敏感性较代表性更重要一些。\n",
    "- **处理因素 treatment** <br>\n",
    "欲施加或观察的、能引起受试对象直接或间接效应的因素。\n",
    "    - 保持处理因素恒定不变，即标准化\n",
    "    - 分清处理因素和非处理(混杂)因素\n",
    "- **实验效应 effect** <br>\n",
    "处理因素作用与对象的反应和结局\n",
    "    - 主观和客观\n",
    "    - 有效\n",
    "    - 精确\n",
    "    - 灵敏和特异\n",
    "    - 稳定\n",
    "\n",
    "![components](design_components.svg)"
   ]
  },
  {
   "cell_type": "markdown",
   "metadata": {},
   "source": [
    "## 实验设计原则\n",
    "- **随机 randomization** <br> \n",
    "均衡干扰因素，避免主观安排带来的偏性。\n",
    "    - 随机抽样\n",
    "    - 随机分组\n",
    "    - 随机化方式\n",
    "        - 简单随机化\n",
    "        - 区组随机化\n",
    "        - 分层随机化\n",
    "- **对照 control**\n",
    "    - 对照形式\n",
    "        - 组间平行对照\n",
    "        - 配对对照\n",
    "    - 对照内容\n",
    "        - 空白对照\n",
    "        - 标准对照\n",
    "        - 阳性对照\n",
    "- **重复 replication** <br>\n",
    "减少非处理因素的影响\n",
    "    - 样本量的大小\n",
    "    - 重复次数的多少"
   ]
  },
  {
   "cell_type": "markdown",
   "metadata": {},
   "source": [
    "## 盲法\n",
    "\n",
    "- 避免主观偏性。\n",
    "- 双模拟技术"
   ]
  },
  {
   "cell_type": "markdown",
   "metadata": {},
   "source": [
    "## 实验设计的基本内容\n",
    "\n",
    "- 建立研究假设/研究目的\n",
    "- 确定研究对象：纳入和排除标准\n",
    "- 确定处理因素\n",
    "- 明确观察指标与测量方法\n",
    "- 计算样本含量\n",
    "- 随机化安排\n",
    "- 实验进度安排\n",
    "- 统计分析方法\n",
    "- 经费预算\n",
    "- 实验管理"
   ]
  },
  {
   "cell_type": "markdown",
   "metadata": {},
   "source": [
    "---\n",
    "\n",
    "# 调查设计"
   ]
  },
  {
   "cell_type": "markdown",
   "metadata": {},
   "source": [
    "## 分类\n",
    "\n",
    "- 描述性调查\n",
    "- 分析性调查"
   ]
  },
  {
   "cell_type": "markdown",
   "metadata": {},
   "source": [
    "## 常用的抽样方法\n",
    "即代表性问题\n",
    "\n",
    "### 概率抽样\n",
    "- 单纯随机抽样::最复合随机的原理，但操作复杂。\n",
    "- 系统抽样::适用于有编号的系统，默认编号与个体周期趋势之间没有关联。\n",
    "- 分层抽样::根据某些特征将总体分成若干区域。\n",
    "- 整群抽样::适用于群间差异小的情况；抽样误差更大。=> 群间差异与个体差异\n",
    "\n",
    "### 非概率抽样\n",
    "在抽样过程中被抽中的概率是未知的或无法计算的。\n",
    "\n",
    "- 配额抽样\n",
    "- 滚雪球抽样::网状图，social network"
   ]
  },
  {
   "cell_type": "markdown",
   "metadata": {},
   "source": [
    "### 典型调查\n",
    "有利于对事物特征深入了解，不能用于参数估计\n",
    "\n",
    "### 横断面抽样调查\n",
    "- 优点\n",
    "    -\n",
    "- 缺点\n",
    "    - 不能推断因果\n",
    "    - 不适合患病率低的疾病\n",
    "    - 不能得到发病率\n",
    "    \n",
    "### 病例对照研究\n",
    "适于罕见病\n",
    "\n",
    "- 易产生回忆偏倚以及选择性偏倚\n",
    "- 不能估计患病率、死亡率\n",
    "- 不能推断因果\n",
    "\n",
    "### 队列研究 cohort \n",
    "\n",
    "确定病因研究\n",
    "\n",
    "- 前瞻性\n",
    "- 回顾性"
   ]
  },
  {
   "cell_type": "markdown",
   "metadata": {},
   "source": [
    "### 实验性设计 RCT"
   ]
  },
  {
   "cell_type": "markdown",
   "metadata": {},
   "source": [
    "## 调查设计的基本内容\n",
    "- 确定研究总体和调查对象\n",
    "- 确定抽样方法，估计样本含量\n",
    "- 确定观测指标和调查项目\n",
    "- 设计调查表和问卷\n",
    "- 选择调查方式\n",
    "- 调查组织计划\n",
    "- 整理分析方法"
   ]
  },
  {
   "cell_type": "markdown",
   "metadata": {},
   "source": [
    "### 循证医学等级\n",
    "1. meta\n",
    "1. RCTs\n",
    "1. 队列研究\n",
    "1. 病例对照\n",
    "1. 系列病例报告\n",
    "1. 个案病例报告\n",
    "1. 想法、评论、观点\n",
    "1. 动物研究\n",
    "1. 体外研究"
   ]
  }
 ],
 "metadata": {
  "kernelspec": {
   "display_name": "Python 3",
   "language": "python",
   "name": "python3"
  },
  "language_info": {
   "codemirror_mode": {
    "name": "ipython",
    "version": 3
   },
   "file_extension": ".py",
   "mimetype": "text/x-python",
   "name": "python",
   "nbconvert_exporter": "python",
   "pygments_lexer": "ipython3",
   "version": "3.6.4"
  }
 },
 "nbformat": 4,
 "nbformat_minor": 2
}
