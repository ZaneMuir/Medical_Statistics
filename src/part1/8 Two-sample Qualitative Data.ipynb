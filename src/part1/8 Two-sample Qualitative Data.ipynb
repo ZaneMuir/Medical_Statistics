{
 "cells": [
  {
   "cell_type": "code",
   "execution_count": 1,
   "metadata": {},
   "outputs": [],
   "source": [
    "using Distributions\n",
    "using Plots\n",
    "using HypothesisTests"
   ]
  },
  {
   "cell_type": "markdown",
   "metadata": {},
   "source": [
    "# 双样本定性\n",
    "\n",
    "- 两独立样本四格表检验假设\n",
    "- 配对四格表检验假设"
   ]
  },
  {
   "cell_type": "markdown",
   "metadata": {},
   "source": [
    "# 两独立样本\n",
    "\n",
    "## 四格表\n",
    "\n",
    "|group|positive|negtive|sum|\n",
    "|-----|--------|-------|---|\n",
    "|A    | a      | b     |$n_{R1}$|\n",
    "|B    | c      | d     |$n_{R2}$|\n",
    "|sum  |$n_{C1}$|$n_{C2}$|$n$|\n",
    "\n",
    "## $\\chi^2$检验\n",
    "\n",
    "- 建立检验假设和检验水准 ($\\pi_1$, $\\pi_2$, $\\alpha=0.05$)\n",
    "- 计算统计量\n",
    "\n",
    "$$ \\chi^2 = \\sum_i \\frac{(A_i-T_i)^2}{T_i} = \\frac{(ad - bc)^2 n}{(a+b)(b+d)(d+c)(c+a)} $$\n",
    "\n",
    "$A_i$ 为实际观测值，$T_i$ 为理论期望值\n",
    "\n",
    "$$ T_{RC} = \\frac{n_R n_C}{n} $$\n",
    "\n",
    "$$ \\nu = (n_R - 1) \\times (n_C - 1) $$\n",
    "\n",
    "特别的，对于四格表，$\\nu$ 为1\n",
    "\n",
    "|$\\chi^2$|$\\alpha$|\n",
    "|--------|--------|\n",
    "|<div style=\"color:red\">3.84</div>| 0.050  |\n",
    "|5.02    | 0.025  |\n",
    "\n",
    "### 适用范围\n",
    "主要用于分类变量。\n",
    "\n",
    "- 两个或多个率间的比较\n",
    "- 两个或多个构成比间的比较\n",
    "- 分类变量间的关联性\n",
    "- 配对设计下两组率的比较"
   ]
  },
  {
   "cell_type": "markdown",
   "metadata": {},
   "source": [
    "## 四格表$\\chi^2$值校正\n",
    "\n",
    "由于四格表资料为离散资料，当样本量较小时，差异不可忽略，需要进行校正。\n",
    "\n",
    "在每个单元格残差中减去0.5.\n",
    "\n",
    "界限：\n",
    "- 当$n \\ge 40$，$\\exists T(1 \\le T < 5)$时，需要计算Yates校正。\n",
    "$$ \\chi^2_c = \\sum_i \\frac{(|A_i-T_i| - 0.5)^2}{T_i} = \\frac{(|ad - bc| - \\frac{n}{2})^2 n}{(a+b)(b+d)(d+c)(c+a)} $$\n",
    "- 当$n \\ge 40$，$\\forall T(5 \\le T )$时，无需校正。\n",
    "- 当$n < 40$，或$\\exists T(T < 1)$时，需要换用 Fisher's exact test。"
   ]
  },
  {
   "cell_type": "markdown",
   "metadata": {},
   "source": [
    "## Fisher's Exact Test\n",
    "\n",
    "作为$\\chi^2$的补充。\n",
    "\n",
    "$$ P = \\frac{(a+b)!(b+d)!(d+c)!(c+a)!}{a!b!c!d!n!} $$"
   ]
  },
  {
   "cell_type": "markdown",
   "metadata": {},
   "source": [
    "# 配对设计\n",
    "\n",
    "\n",
    "| A | B+ |B-| sum|\n",
    "|---|----|--|----|\n",
    "|+  |a   |b |$n_{R1}$|\n",
    "|-  |c   |d |$n_{R2}$|\n",
    "|sum|$n_{C1}$|$n_{C2}$|n|\n",
    "\n",
    "a d结论相通，对问题的解答并无贡献；\n",
    "b c才代表了两者的差异。\n",
    "\n",
    "对于H0，$T_b = T_c = \\frac{b+c}{2}$，则\n",
    "$$\\chi^2 = \\frac{(b-c)^2}{b+c}$$"
   ]
  },
  {
   "cell_type": "markdown",
   "metadata": {},
   "source": [
    "## McNemar法\n",
    "\n",
    "结果为二分类时。\n",
    "\n",
    "当$b+c<40$时，需要做校正。 \n",
    "$$\\chi^2 = \\frac{(|b-c| - 1)^2}{b+c}$$"
   ]
  }
 ],
 "metadata": {
  "kernelspec": {
   "display_name": "Julia 0.6.0",
   "language": "julia",
   "name": "julia-0.6"
  },
  "language_info": {
   "file_extension": ".jl",
   "mimetype": "application/julia",
   "name": "julia",
   "version": "0.6.2"
  }
 },
 "nbformat": 4,
 "nbformat_minor": 2
}
