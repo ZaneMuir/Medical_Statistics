{
 "cells": [
  {
   "cell_type": "markdown",
   "metadata": {},
   "source": [
    "# 基本概念\n",
    "\n",
    "|term|yangwen|definition|\n",
    "|----|-------|----------|\n",
    "|观察单位|observation unit|根据研究目的所确定的最基本的抽样单位|\n",
    "|个体|individual|同“观察单位”|\n",
    "|<div style=\"color:red\">**总体**</div>|population|根据研究目的所确定的所有同质个体某指标实际值的集合|\n",
    "|同质性|homogeneity|研究对象在一定范畴内的各种可能影响主要观察指标的其他因素处于相同或非常相似的情况|\n",
    "|<div style=\"color:red\">**样本**</div>|sample|从一个研究问题所确定的研究对象中抽出一部分个体，这些个体的研究指标的测量值构成的集合|\n",
    "|样本量|sample size|样本中的个体总数|\n",
    "|变量|variable|亦称观察指标。|\n",
    "|资料|data|变量的取值，即观察值或测量值或对应的观察结果|\n",
    "|随机试验||结果具有随机性的观察或者试验的统称|\n",
    "|随机事件|random event|随机试验的每种可能的结果，简称事件|\n",
    "|频率|frequency|在n次随机试验中，随机事件A发生了m次，则称A发生的频率为 $f = \\frac{m}{n}$|\n",
    "|概率|probability|刻画某随机事件发生的可能性大小的度量指标，取值介于0到1的闭区间|\n",
    "|<div style=\"color:red\">**小概率事件**</div>||随机事件发生的概率小于或等于0.05|\n",
    "|小概率事件原理||一般可以***认为***小概率事件在一次随机抽样中不会发生|\n",
    "|<div style=\"color:red\">**总体参数**</div>|parameter|刻画总体特征的指标的统称|\n",
    "|<div style=\"color:red\">**统计量**</div>|statistic|刻画样本特征的指标的统称|\n",
    "|个体变异|individual variation|同质个体中同一观察指标的个体观察值之间的差异|\n",
    "|变异分布规律||观察值出现在不同范围对应不同的概率，即观察指标取值的概率分布|\n",
    "|抽样误差|sampling error|样本统计量与总体参数之间的差异；抽样误差是有规律的，是可以被认识和可控的|\n",
    "|抽样分布|sampling distribution|样本统计量的概率分布|\n",
    "\n"
   ]
  },
  {
   "cell_type": "markdown",
   "metadata": {},
   "source": [
    "## 变量的分类\n",
    "- 定量资料\n",
    "- 定性资料\n",
    "- 等级资料\n",
    "\n",
    "\n",
    "- 数值变量资料\n",
    "- 分类资料\n",
    "    - 二分类\n",
    "    - 多分类\n",
    "        - 无序多分类\n",
    "        - 有序多分类\n",
    "        \n",
    "\n",
    "- 连续型资料\n",
    "- 离散型资料"
   ]
  },
  {
   "cell_type": "markdown",
   "metadata": {},
   "source": [
    "## 主要的步骤\n",
    "\n",
    "- 研究设计\n",
    "- 搜集资料\n",
    "- 整理资料\n",
    "- 资料分析\n",
    "- 结论"
   ]
  },
  {
   "cell_type": "markdown",
   "metadata": {},
   "source": [
    "# Review\n",
    "\n",
    "- 研究设计\n",
    "- 统计描述\n",
    "    - 统计图表\n",
    "    - 统计指标\n",
    "        - 定量资料\n",
    "            - 平均指标 集中趋势\n",
    "            - 变异指标 离散趋势\n",
    "        - 分类资料\n",
    "            - 比\n",
    "            - 比例\n",
    "            - 率\n",
    "        - 标准化\n",
    "- 概率分布\n",
    "    - 二项分布 $\\mathcal{B}(n,\\pi)$\n",
    "    - 正态分布 $\\mathcal{N}(\\mu,\\sigma^2)$\n",
    "        - u分布(Z分布) 标准正态分布\n",
    "- 抽样分布\n",
    "    - 标准误\n",
    "    - 中心极限定理\n",
    "    - t分布 $\\mathcal{T}(\\nu)$\n",
    "- 统计推断\n",
    "    - 参数估计\n",
    "        - 点估计\n",
    "        - 区间估计 考虑抽样误差 CI\n",
    "        - 医学参考值范围\n",
    "    - 假设检验\n",
    "        - 目的\n",
    "        - 小概率反证法\n",
    "        - 一般步骤\n",
    "        - 两类错误\n",
    "        - 定量资料\n",
    "            - 已知总体 u检验\n",
    "            - 方差齐性检验 F检验\n",
    "            - 两独立样本 t检验 t'检验\n",
    "            - 配对样本 paired t检验\n",
    "        - 分类资料\n",
    "            - 两独立样本 卡方检验， Exact test，是否需要校正\n",
    "            - 配对样本 McNemar检验，是否需要校正"
   ]
  }
 ],
 "metadata": {
  "kernelspec": {
   "display_name": "Julia 0.6.0",
   "language": "julia",
   "name": "julia-0.6"
  },
  "language_info": {
   "file_extension": ".jl",
   "mimetype": "application/julia",
   "name": "julia",
   "version": "0.6.2"
  }
 },
 "nbformat": 4,
 "nbformat_minor": 2
}
